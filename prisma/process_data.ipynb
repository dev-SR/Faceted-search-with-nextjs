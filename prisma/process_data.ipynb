{
 "cells": [
  {
   "cell_type": "markdown",
   "metadata": {},
   "source": [
    "# Process Data for seeding\n"
   ]
  },
  {
   "cell_type": "markdown",
   "metadata": {},
   "source": [
    "- Source: [Kaggle Flipkart Products](https://www.kaggle.com/datasets/PromptCloudHQ/flipkart-products)\n"
   ]
  },
  {
   "cell_type": "code",
   "execution_count": null,
   "metadata": {},
   "outputs": [],
   "source": [
    "import pandas as pd\n",
    "import numpy as np\n",
    "from pprint import pprint\n",
    "import random"
   ]
  },
  {
   "cell_type": "code",
   "execution_count": 1,
   "metadata": {},
   "outputs": [
    {
     "ename": "NameError",
     "evalue": "name 'pd' is not defined",
     "output_type": "error",
     "traceback": [
      "\u001b[1;31m---------------------------------------------------------------------------\u001b[0m",
      "\u001b[1;31mNameError\u001b[0m                                 Traceback (most recent call last)",
      "\u001b[1;32m<ipython-input-1-08b6f8eed20d>\u001b[0m in \u001b[0;36m<module>\u001b[1;34m\u001b[0m\n\u001b[1;32m----> 1\u001b[1;33m \u001b[0mdf\u001b[0m \u001b[1;33m=\u001b[0m \u001b[0mpd\u001b[0m\u001b[1;33m.\u001b[0m\u001b[0mread_csv\u001b[0m\u001b[1;33m(\u001b[0m\u001b[1;34m\"Flipkart_Mobiles.csv\"\u001b[0m\u001b[1;33m)\u001b[0m\u001b[1;33m\u001b[0m\u001b[1;33m\u001b[0m\u001b[0m\n\u001b[0m\u001b[0;32m      2\u001b[0m \u001b[0mdf\u001b[0m \u001b[1;33m=\u001b[0m \u001b[0mdf\u001b[0m\u001b[1;33m.\u001b[0m\u001b[0mdropna\u001b[0m\u001b[1;33m(\u001b[0m\u001b[1;33m)\u001b[0m\u001b[1;33m\u001b[0m\u001b[1;33m\u001b[0m\u001b[0m\n\u001b[0;32m      3\u001b[0m \u001b[1;31m# df = df.sample(400,random_state=1)\u001b[0m\u001b[1;33m\u001b[0m\u001b[1;33m\u001b[0m\u001b[0m\n\u001b[0;32m      4\u001b[0m \u001b[0mprint\u001b[0m\u001b[1;33m(\u001b[0m\u001b[0mdf\u001b[0m\u001b[1;33m.\u001b[0m\u001b[0mshape\u001b[0m\u001b[1;33m)\u001b[0m\u001b[1;33m\u001b[0m\u001b[1;33m\u001b[0m\u001b[0m\n\u001b[0;32m      5\u001b[0m \u001b[0mdf\u001b[0m\u001b[1;33m.\u001b[0m\u001b[0mhead\u001b[0m\u001b[1;33m(\u001b[0m\u001b[1;36m1\u001b[0m\u001b[1;33m)\u001b[0m\u001b[1;33m\u001b[0m\u001b[1;33m\u001b[0m\u001b[0m\n",
      "\u001b[1;31mNameError\u001b[0m: name 'pd' is not defined"
     ]
    }
   ],
   "source": [
    "df = pd.read_csv(\"Flipkart_Mobiles.csv\")\n",
    "df = df.dropna()\n",
    "# df = df.sample(400,random_state=1)\n",
    "print(df.shape)\n",
    "df.head(1)"
   ]
  },
  {
   "cell_type": "code",
   "execution_count": 87,
   "metadata": {},
   "outputs": [
    {
     "name": "stdout",
     "output_type": "stream",
     "text": [
      "{'attributes': [{'name': 'Color', 'value': 'Moonlight Black'},\n",
      "                {'name': 'Memory', 'value': '4 GB'},\n",
      "                {'name': 'Storage', 'value': '64 GB'}],\n",
      " 'brand': 'OPPO',\n",
      " 'category': 'Mobile',\n",
      " 'description': '',\n",
      " 'price': 11990,\n",
      " 'rating': 4.5,\n",
      " 'title': 'OPPO A53'}\n"
     ]
    }
   ],
   "source": [
    "# Create a list of dictionaries\n",
    "mobile_result = []\n",
    "attributes = [\"Color\", \"Memory\", \"Storage\"]\n",
    "for _, row in df.iterrows():\n",
    "    data_dict = {\n",
    "        \"title\": row[\"Brand\"] + \" \" + row[\"Model\"],\n",
    "        \"price\": row[\"Selling Price\"],\n",
    "        \"category\": \"Mobile\",\n",
    "        \"brand\": row[\"Brand\"],\n",
    "        \"description\": \"\",\n",
    "        \"rating\": row[\"Rating\"],  # random.choice([2,2.5,3,3.5,4,4.5,5])\n",
    "        \"attributes\": [],\n",
    "    }\n",
    "    for col in attributes:\n",
    "        data_dict[\"attributes\"].append(\n",
    "            {\n",
    "                \"name\": col,\n",
    "                \"value\": row[col],\n",
    "            }\n",
    "        )\n",
    "    mobile_result.append(data_dict)\n",
    "\n",
    "pprint(mobile_result[0])"
   ]
  },
  {
   "cell_type": "code",
   "execution_count": 88,
   "metadata": {},
   "outputs": [
    {
     "name": "stdout",
     "output_type": "stream",
     "text": [
      "(1000, 9)\n"
     ]
    },
    {
     "data": {
      "text/html": [
       "<div>\n",
       "<style scoped>\n",
       "    .dataframe tbody tr th:only-of-type {\n",
       "        vertical-align: middle;\n",
       "    }\n",
       "\n",
       "    .dataframe tbody tr th {\n",
       "        vertical-align: top;\n",
       "    }\n",
       "\n",
       "    .dataframe thead th {\n",
       "        text-align: right;\n",
       "    }\n",
       "</style>\n",
       "<table border=\"1\" class=\"dataframe\">\n",
       "  <thead>\n",
       "    <tr style=\"text-align: right;\">\n",
       "      <th></th>\n",
       "      <th>User ID</th>\n",
       "      <th>Product ID</th>\n",
       "      <th>Product Name</th>\n",
       "      <th>Brand</th>\n",
       "      <th>Category</th>\n",
       "      <th>Price</th>\n",
       "      <th>Rating</th>\n",
       "      <th>Color</th>\n",
       "      <th>Size</th>\n",
       "    </tr>\n",
       "  </thead>\n",
       "  <tbody>\n",
       "    <tr>\n",
       "      <th>0</th>\n",
       "      <td>19</td>\n",
       "      <td>1</td>\n",
       "      <td>Dress</td>\n",
       "      <td>Adidas</td>\n",
       "      <td>Men's Fashion</td>\n",
       "      <td>40</td>\n",
       "      <td>1.043159</td>\n",
       "      <td>Black</td>\n",
       "      <td>XL</td>\n",
       "    </tr>\n",
       "  </tbody>\n",
       "</table>\n",
       "</div>"
      ],
      "text/plain": [
       "   User ID  Product ID Product Name   Brand       Category  Price    Rating  \\\n",
       "0       19           1        Dress  Adidas  Men's Fashion     40  1.043159   \n",
       "\n",
       "   Color Size  \n",
       "0  Black   XL  "
      ]
     },
     "execution_count": 88,
     "metadata": {},
     "output_type": "execute_result"
    }
   ],
   "source": [
    "df = pd.read_csv(\"fashion_products.csv\")\n",
    "print(df.shape)\n",
    "df.head(1)"
   ]
  },
  {
   "cell_type": "code",
   "execution_count": 89,
   "metadata": {},
   "outputs": [
    {
     "name": "stdout",
     "output_type": "stream",
     "text": [
      "{'attributes': [{'name': 'Color', 'value': 'Black'},\n",
      "                {'name': 'Size', 'value': 'XL'}],\n",
      " 'brand': 'Adidas',\n",
      " 'category': \"Men's Fashion\",\n",
      " 'description': '',\n",
      " 'price': 40,\n",
      " 'rating': 1.0431592108361825,\n",
      " 'title': 'Adidas Dress'}\n"
     ]
    }
   ],
   "source": [
    "# Create a list of dictionaries\n",
    "fashion_result = []\n",
    "attributes = [\"Color\", \"Size\"]\n",
    "\n",
    "for _, row in df.iterrows():\n",
    "    data_dict = {\n",
    "        \"title\": row[\"Brand\"] + \" \" + row[\"Product Name\"],\n",
    "        \"price\": row[\"Price\"],\n",
    "        \"category\": row[\"Category\"],\n",
    "        \"brand\": row[\"Brand\"],\n",
    "        \"description\": \"\",\n",
    "        \"rating\": row[\"Rating\"],  # random.choice([2,2.5,3,3.5,4,4.5,5])\n",
    "        \"attributes\": [],\n",
    "    }\n",
    "    for col in attributes:\n",
    "        data_dict[\"attributes\"].append(\n",
    "            {\n",
    "                \"name\": col,\n",
    "                \"value\": row[col],\n",
    "            }\n",
    "        )\n",
    "    fashion_result.append(data_dict)\n",
    "pprint(fashion_result[0])"
   ]
  },
  {
   "cell_type": "code",
   "execution_count": 109,
   "metadata": {},
   "outputs": [
    {
     "data": {
      "text/html": [
       "<div>\n",
       "<style scoped>\n",
       "    .dataframe tbody tr th:only-of-type {\n",
       "        vertical-align: middle;\n",
       "    }\n",
       "\n",
       "    .dataframe tbody tr th {\n",
       "        vertical-align: top;\n",
       "    }\n",
       "\n",
       "    .dataframe thead th {\n",
       "        text-align: right;\n",
       "    }\n",
       "</style>\n",
       "<table border=\"1\" class=\"dataframe\">\n",
       "  <thead>\n",
       "    <tr style=\"text-align: right;\">\n",
       "      <th></th>\n",
       "      <th>title</th>\n",
       "      <th>price</th>\n",
       "      <th>category</th>\n",
       "      <th>brand</th>\n",
       "      <th>description</th>\n",
       "      <th>rating</th>\n",
       "      <th>attributes</th>\n",
       "    </tr>\n",
       "  </thead>\n",
       "  <tbody>\n",
       "    <tr>\n",
       "      <th>1726</th>\n",
       "      <td>SAMSUNG Tizen Z3</td>\n",
       "      <td>6990</td>\n",
       "      <td>Mobile</td>\n",
       "      <td>SAMSUNG</td>\n",
       "      <td></td>\n",
       "      <td>3.300000</td>\n",
       "      <td>[{'name': 'Color', 'value': 'Gold'}, {'name': ...</td>\n",
       "    </tr>\n",
       "    <tr>\n",
       "      <th>439</th>\n",
       "      <td>Zara Dress</td>\n",
       "      <td>83</td>\n",
       "      <td>Women's Fashion</td>\n",
       "      <td>Zara</td>\n",
       "      <td></td>\n",
       "      <td>4.720335</td>\n",
       "      <td>[{'name': 'Color', 'value': 'White'}, {'name':...</td>\n",
       "    </tr>\n",
       "    <tr>\n",
       "      <th>779</th>\n",
       "      <td>GIONEE F205 Pro</td>\n",
       "      <td>6990</td>\n",
       "      <td>Mobile</td>\n",
       "      <td>GIONEE</td>\n",
       "      <td></td>\n",
       "      <td>4.100000</td>\n",
       "      <td>[{'name': 'Color', 'value': 'Blue'}, {'name': ...</td>\n",
       "    </tr>\n",
       "    <tr>\n",
       "      <th>366</th>\n",
       "      <td>LG Q7</td>\n",
       "      <td>16996</td>\n",
       "      <td>Mobile</td>\n",
       "      <td>LG</td>\n",
       "      <td></td>\n",
       "      <td>3.300000</td>\n",
       "      <td>[{'name': 'Color', 'value': 'Lavender Violet'}...</td>\n",
       "    </tr>\n",
       "    <tr>\n",
       "      <th>1048</th>\n",
       "      <td>Apple iPhone 12</td>\n",
       "      <td>63999</td>\n",
       "      <td>Mobile</td>\n",
       "      <td>Apple</td>\n",
       "      <td></td>\n",
       "      <td>4.600000</td>\n",
       "      <td>[{'name': 'Color', 'value': 'White'}, {'name':...</td>\n",
       "    </tr>\n",
       "    <tr>\n",
       "      <th>...</th>\n",
       "      <td>...</td>\n",
       "      <td>...</td>\n",
       "      <td>...</td>\n",
       "      <td>...</td>\n",
       "      <td>...</td>\n",
       "      <td>...</td>\n",
       "      <td>...</td>\n",
       "    </tr>\n",
       "    <tr>\n",
       "      <th>1993</th>\n",
       "      <td>Lenovo S930</td>\n",
       "      <td>13604</td>\n",
       "      <td>Mobile</td>\n",
       "      <td>Lenovo</td>\n",
       "      <td></td>\n",
       "      <td>4.300000</td>\n",
       "      <td>[{'name': 'Color', 'value': 'Silver'}, {'name'...</td>\n",
       "    </tr>\n",
       "    <tr>\n",
       "      <th>385</th>\n",
       "      <td>Adidas Dress</td>\n",
       "      <td>17</td>\n",
       "      <td>Women's Fashion</td>\n",
       "      <td>Adidas</td>\n",
       "      <td></td>\n",
       "      <td>3.578354</td>\n",
       "      <td>[{'name': 'Color', 'value': 'Yellow'}, {'name'...</td>\n",
       "    </tr>\n",
       "    <tr>\n",
       "      <th>29</th>\n",
       "      <td>OPPO A54</td>\n",
       "      <td>15990</td>\n",
       "      <td>Mobile</td>\n",
       "      <td>OPPO</td>\n",
       "      <td></td>\n",
       "      <td>4.300000</td>\n",
       "      <td>[{'name': 'Color', 'value': 'Starry Blue'}, {'...</td>\n",
       "    </tr>\n",
       "    <tr>\n",
       "      <th>2588</th>\n",
       "      <td>vivo X50</td>\n",
       "      <td>44990</td>\n",
       "      <td>Mobile</td>\n",
       "      <td>vivo</td>\n",
       "      <td></td>\n",
       "      <td>5.000000</td>\n",
       "      <td>[{'name': 'Color', 'value': 'Frost Blue'}, {'n...</td>\n",
       "    </tr>\n",
       "    <tr>\n",
       "      <th>543</th>\n",
       "      <td>Nike T-shirt</td>\n",
       "      <td>77</td>\n",
       "      <td>Women's Fashion</td>\n",
       "      <td>Nike</td>\n",
       "      <td></td>\n",
       "      <td>3.556866</td>\n",
       "      <td>[{'name': 'Color', 'value': 'Red'}, {'name': '...</td>\n",
       "    </tr>\n",
       "  </tbody>\n",
       "</table>\n",
       "<p>300 rows × 7 columns</p>\n",
       "</div>"
      ],
      "text/plain": [
       "                  title  price         category    brand description  \\\n",
       "1726  SAMSUNG Tizen Z3    6990           Mobile  SAMSUNG               \n",
       "439          Zara Dress     83  Women's Fashion     Zara               \n",
       "779    GIONEE F205 Pro    6990           Mobile   GIONEE               \n",
       "366              LG Q7   16996           Mobile       LG               \n",
       "1048   Apple iPhone 12   63999           Mobile    Apple               \n",
       "...                 ...    ...              ...      ...         ...   \n",
       "1993       Lenovo S930   13604           Mobile   Lenovo               \n",
       "385        Adidas Dress     17  Women's Fashion   Adidas               \n",
       "29             OPPO A54  15990           Mobile     OPPO               \n",
       "2588         vivo X50    44990           Mobile     vivo               \n",
       "543        Nike T-shirt     77  Women's Fashion     Nike               \n",
       "\n",
       "        rating                                         attributes  \n",
       "1726  3.300000  [{'name': 'Color', 'value': 'Gold'}, {'name': ...  \n",
       "439   4.720335  [{'name': 'Color', 'value': 'White'}, {'name':...  \n",
       "779   4.100000  [{'name': 'Color', 'value': 'Blue'}, {'name': ...  \n",
       "366   3.300000  [{'name': 'Color', 'value': 'Lavender Violet'}...  \n",
       "1048  4.600000  [{'name': 'Color', 'value': 'White'}, {'name':...  \n",
       "...        ...                                                ...  \n",
       "1993  4.300000  [{'name': 'Color', 'value': 'Silver'}, {'name'...  \n",
       "385   3.578354  [{'name': 'Color', 'value': 'Yellow'}, {'name'...  \n",
       "29    4.300000  [{'name': 'Color', 'value': 'Starry Blue'}, {'...  \n",
       "2588  5.000000  [{'name': 'Color', 'value': 'Frost Blue'}, {'n...  \n",
       "543   3.556866  [{'name': 'Color', 'value': 'Red'}, {'name': '...  \n",
       "\n",
       "[300 rows x 7 columns]"
      ]
     },
     "metadata": {},
     "output_type": "display_data"
    }
   ],
   "source": [
    "# Create a new DataFrame from the list of dictionaries\n",
    "new_df = pd.concat(\n",
    "    [\n",
    "        pd.DataFrame(mobile_result),\n",
    "        pd.DataFrame(fashion_result),\n",
    "    ]\n",
    ")\n",
    "new_df = new_df.sample(300, random_state=100)\n",
    "display(new_df)\n",
    "new_df.to_json(\"data.json\", orient=\"records\")"
   ]
  },
  {
   "cell_type": "code",
   "execution_count": 110,
   "metadata": {},
   "outputs": [
    {
     "data": {
      "text/plain": [
       "(array(['SAMSUNG', 'Zara', 'GIONEE', 'LG', 'Apple', 'vivo', 'Xiaomi',\n",
       "        'Adidas', 'H&M', 'Motorola', 'OPPO', 'ASUS', 'Nokia', 'realme',\n",
       "        'Gucci', 'HTC', 'Lenovo', 'Infinix', 'Nike', 'Google Pixel',\n",
       "        'POCO'], dtype=object),\n",
       " 21)"
      ]
     },
     "execution_count": 110,
     "metadata": {},
     "output_type": "execute_result"
    }
   ],
   "source": [
    "key = \"brand\"\n",
    "new_df[key].unique(), len(new_df[key].unique())"
   ]
  }
 ],
 "metadata": {
  "kernelspec": {
   "display_name": "base",
   "language": "python",
   "name": "python3"
  },
  "language_info": {
   "codemirror_mode": {
    "name": "ipython",
    "version": 3
   },
   "file_extension": ".py",
   "mimetype": "text/x-python",
   "name": "python",
   "nbconvert_exporter": "python",
   "pygments_lexer": "ipython3",
   "version": "3.9.12"
  }
 },
 "nbformat": 4,
 "nbformat_minor": 2
}
